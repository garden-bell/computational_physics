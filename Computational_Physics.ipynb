{
  "cells": [
    {
      "cell_type": "markdown",
      "metadata": {
        "id": "view-in-github",
        "colab_type": "text"
      },
      "source": [
        "<a href=\"https://colab.research.google.com/github/garden-bell/computational_physics/blob/main/Computational_Physics.ipynb\" target=\"_parent\"><img src=\"https://colab.research.google.com/assets/colab-badge.svg\" alt=\"Open In Colab\"/></a>"
      ]
    },
    {
      "cell_type": "code",
      "execution_count": null,
      "metadata": {
        "id": "O3HobI2hhZt_"
      },
      "outputs": [],
      "source": [
        "import numpy as np\n",
        "import pandas as pd\n",
        "import pickle\n",
        "import matplotlib.pyplot as plt\n",
        "import math\n",
        "from pandas import DataFrame\n",
        "from sklearn.model_selection import train_test_split\n",
        "from sklearn.preprocessing import StandardScaler\n",
        "from tensorflow.keras.models import Sequential\n",
        "from tensorflow.keras.layers import Dense, Dropout\n",
        "from tensorflow.keras.optimizers import Adam\n",
        "from keras.callbacks import EarlyStopping\n",
        "\n",
        "\n",
        "# 최대 출력 열 수 조정 (예: 50열)\n",
        "pd.set_option('display.max_columns', 200)"
      ]
    },
    {
      "cell_type": "code",
      "execution_count": null,
      "metadata": {
        "id": "TCKNdN45jBcb"
      },
      "outputs": [],
      "source": [
        "# CSV 파일에서 데이터 불러오기\n",
        "divorce_rate = pd.read_csv('data/divorce_rate.csv', header=None)\n",
        "higher_education = pd.read_csv('data/higher_education.csv', header=None)\n",
        "housing_prices = pd.read_csv('data/housing_prices.csv', header=None)\n",
        "inflation_rate = pd.read_csv('data/inflation_rate.csv', header=None)\n",
        "women_employment = pd.read_csv('data/women_employment.csv', header=None)\n",
        "birth_rate = pd.read_csv('data/birth_rate.csv', header=None)\n",
        "\n",
        "# 데이터 합치기 위해 값으로 변경\n",
        "divorce_rate = divorce_rate.values.tolist()\n",
        "higher_education = higher_education.values.tolist()\n",
        "housing_prices = housing_prices.values.tolist()\n",
        "inflation_rate = inflation_rate.values.tolist()\n",
        "women_employment = women_employment.values.tolist()\n",
        "birth_rate = birth_rate.values.tolist()"
      ]
    },
    {
      "cell_type": "code",
      "execution_count": null,
      "metadata": {
        "id": "0kDpNt0cjIfA"
      },
      "outputs": [],
      "source": [
        "data = []\n",
        "for i in range(len(divorce_rate)):\n",
        "  for j in range(len(divorce_rate[i])):\n",
        "    data.append([divorce_rate[i][j], higher_education[i][j], housing_prices[i][j], inflation_rate[i][j], women_employment[i][j], birth_rate[i][j]])\n",
        "\n",
        "for i in range(len(data)) :\n",
        "    for j in range(len(data[i])) :\n",
        "        if math.isnan(data[i][j]) :\n",
        "            via = 1\n",
        "            while math.isnan(data[i + via][j]) and not(i + via == len(data)) :\n",
        "                via += 1\n",
        "            if (via + i == len(data)) :\n",
        "                pass\n",
        "            else :\n",
        "                data[i][j] = data[i + via][j]\n",
        "\n",
        "\n",
        "df = pd.DataFrame(data)\n",
        "\n",
        "df.columns = ['divorce_rate', 'higher_education', 'housing_prices', 'inflation_rate', 'women_employment', 'birth_rate']"
      ]
    },
    {
      "cell_type": "code",
      "execution_count": null,
      "metadata": {
        "id": "h5wrXWxvjLhT"
      },
      "outputs": [],
      "source": [
        "# 특성과 목표 변수 분리\n",
        "X = df[['divorce_rate', 'higher_education', 'housing_prices', 'inflation_rate', 'women_employment']]\n",
        "y = df['birth_rate']\n",
        "\n",
        "# 데이터 분할: 훈련 세트와 테스트 세트\n",
        "X_train, X_test, y_train, y_test = train_test_split(X, y, test_size=0.1, random_state=42)\n",
        "\n",
        "# 데이터 스케일링\n",
        "scaler = StandardScaler()\n",
        "X_train_scaled = scaler.fit_transform(X_train)\n",
        "X_test_scaled = scaler.transform(X_test)"
      ]
    },
    {
      "cell_type": "code",
      "source": [
        "# 모델 구축\n",
        "model = Sequential()\n",
        "model.add(Dense(64, input_dim=X_train_scaled.shape[1], activation='relu'))   # 입력층과 첫 번째 히든 레이어\n",
        "model.add(Dropout(0.3))\n",
        "model.add(Dense(32, activation='relu'))   # 두 번째 히든 레이어\n",
        "model.add(Dropout(0.2))\n",
        "model.add(Dense(16, activation='relu'))   # 세 번째 히든 레이어\n",
        "model.add(Dropout(0.2))\n",
        "model.add(Dense(1))   # 출력층"
      ],
      "metadata": {
        "id": "Y8BNEU-Fz4rN"
      },
      "execution_count": null,
      "outputs": []
    },
    {
      "cell_type": "code",
      "source": [
        "# 모델 컴파일\n",
        "model.compile(optimizer=Adam(learning_rate=0.0005), loss='mean_squared_error')\n",
        "\n",
        "# 조기 종료 설정\n",
        "early_stopping = EarlyStopping(monitor='val_loss', patience=10)\n",
        "\n",
        "# 모델 학습\n",
        "history = model.fit(X_train_scaled, y_train, epochs=100, batch_size=10, validation_split=0.2, callbacks=[early_stopping])"
      ],
      "metadata": {
        "id": "kv4zYYox0BSS"
      },
      "execution_count": null,
      "outputs": []
    },
    {
      "cell_type": "markdown",
      "source": [
        "***First***, We make a predict by using 2013 ~ 2022 Korea Data, Kosis"
      ],
      "metadata": {
        "id": "fRcl3Fq5aLk_"
      }
    },
    {
      "cell_type": "code",
      "execution_count": null,
      "metadata": {
        "id": "-EEHz-KYjR5z"
      },
      "outputs": [],
      "source": [
        "# 한국 데이터 불러오기\n",
        "divorce_rate_korea = pd.read_csv('data/divorce_rate_korea.csv', header=None)\n",
        "higher_education_korea = pd.read_csv('data/higher_education_korea.csv', header=None)\n",
        "housing_prices_korea = pd.read_csv('datahousing_prices_korea.csv', header=None)\n",
        "inflation_rate_korea = pd.read_csv('data/inflation_rate_korea.csv', header=None)\n",
        "women_employment_korea = pd.read_csv('data/women_employment_korea.csv', header=None)\n",
        "\n",
        "# 데이터 합치기 위해 값으로 변경\n",
        "divorce_rate_korea = divorce_rate_korea.values.tolist()\n",
        "higher_education_korea = higher_education_korea.values.tolist()\n",
        "housing_prices_korea = housing_prices_korea.values.tolist()\n",
        "inflation_rate_korea = inflation_rate_korea.values.tolist()\n",
        "women_employment_korea = women_employment_korea.values.tolist()\n",
        "\n",
        "data = []\n",
        "for i in range(len(divorce_rate_korea)):\n",
        "  for j in range(len(divorce_rate_korea[i])):\n",
        "    data.append([divorce_rate_korea[i][j], higher_education_korea[i][j], housing_prices_korea[i][j], inflation_rate_korea[i][j], women_employment_korea[i][j]])\n",
        "\n",
        "df = pd.DataFrame(data)\n",
        "\n",
        "df.columns = ['divorce_rate', 'higher_education', 'housing_prices', 'inflation_rate', 'women_employment']"
      ]
    },
    {
      "cell_type": "code",
      "execution_count": null,
      "metadata": {
        "id": "lq5az9YRrHdJ"
      },
      "outputs": [],
      "source": [
        "# 한국 데이터 스케일링\n",
        "korea_data_scaled = scaler.transform(df[['divorce_rate', 'higher_education', 'housing_prices', 'inflation_rate', 'women_employment']])\n",
        "\n",
        "# 예측 수행\n",
        "birth_rate_korea_pred = model.predict(korea_data_scaled)\n",
        "\n",
        "print(birth_rate_korea_pred)\n",
        "\n",
        "# 연도별 예측 결과 출력\n",
        "for year, pred in zip(range(2013, 2023), birth_rate_korea_pred):\n",
        "    print(f'{year}년 예측된 한국의 출산율: {pred[0]}')"
      ]
    },
    {
      "cell_type": "code",
      "execution_count": null,
      "metadata": {
        "id": "8FPc9ISNsbTB"
      },
      "outputs": [],
      "source": [
        "# 그래프 생성\n",
        "plt.figure(figsize=(20, 5))\n",
        "\n",
        "plt.subplot(1, 2, 1)\n",
        "plt.plot(range(2013, 2023), birth_rate_korea_pred, marker='o', linestyle='-', color='b', label='Birth Rate Prediction')\n",
        "\n",
        "# 그래프 제목 추가\n",
        "plt.title('Predicted Birth Rate in Korea')\n",
        "\n",
        "# x축, y축 레이블 추가\n",
        "plt.xlabel('Year')\n",
        "plt.ylabel('Birth Rate')\n",
        "plt.ylim(0.7, 2.5)\n",
        "plt.xticks(range(2013,2023))\n",
        "\n",
        "birth_rate_korea_real = [1.19, 1.21, 1.24, 1.17, 1.05, 0.98, 0.92, 0.84, 0.81, 0.78]\n",
        "\n",
        "plt.subplot(1, 2, 2)\n",
        "plt.title('Real Birth Rate in Korea')\n",
        "plt.plot(range(2013, 2023), birth_rate_korea_real, marker='o', linestyle='-', color='b', label='Birth Rate Prediction')\n",
        "plt.xlabel('Year')\n",
        "plt.ylabel('Birth Rate')\n",
        "plt.ylim(0.7, 2.5)\n",
        "plt.xticks(range(2013,2023))\n",
        "plt.show()"
      ]
    },
    {
      "cell_type": "markdown",
      "source": [
        "***Second,*** We do same work by Poland Data, earned by OECD stats & data.\n",
        "\n",
        "---\n",
        "\n",
        "\n",
        "*Poland data is not used in training.*"
      ],
      "metadata": {
        "id": "PLO1zSUxa-jM"
      }
    },
    {
      "cell_type": "code",
      "source": [
        "# 폴란드 데이터 불러오기\n",
        "divorce_rate_poland = pd.read_csv('data/divorce_rate_poland.csv', header=None)\n",
        "higher_education_poland = pd.read_csv('data/higher_education_poland.csv', header=None)\n",
        "housing_prices_poland = pd.read_csv('data/housing_prices_poland.csv', header=None)\n",
        "inflation_rate_poland = pd.read_csv('data/inflation_rate_poland.csv', header=None)\n",
        "women_employment_poland = pd.read_csv('data/women_employment_poland.csv', header=None)\n",
        "\n",
        "# 데이터 합치기 위해 값으로 변경\n",
        "divorce_rate_poland = divorce_rate_poland.values.tolist()\n",
        "higher_education_poland = higher_education_poland.values.tolist()\n",
        "housing_prices_poland = housing_prices_poland.values.tolist()\n",
        "inflation_rate_poland = inflation_rate_poland.values.tolist()\n",
        "women_employment_poland = women_employment_poland.values.tolist()\n",
        "\n",
        "data = []\n",
        "for i in range(len(divorce_rate_poland)):\n",
        "  for j in range(len(divorce_rate_poland[i])):\n",
        "    data.append([divorce_rate_poland[i][j], higher_education_poland[i][j], housing_prices_poland[i][j], inflation_rate_poland[i][j], women_employment_poland[i][j]])\n",
        "\n",
        "df = pd.DataFrame(data)\n",
        "\n",
        "df.columns = ['divorce_rate', 'higher_education', 'housing_prices', 'inflation_rate', 'women_employment']\n",
        "\n",
        "# 폴란드 데이터 스케일링\n",
        "poland_data_scaled = scaler.transform(df[['divorce_rate', 'higher_education', 'housing_prices', 'inflation_rate', 'women_employment']])\n",
        "\n",
        "# 예측 수행\n",
        "birth_rate_poland_pred = model.predict(poland_data_scaled)\n",
        "\n",
        "print(birth_rate_poland_pred)\n",
        "\n",
        "# 연도별 예측 결과 출력\n",
        "for year, pred in zip(range(2013, 2023), birth_rate_poland_pred):\n",
        "    print(f'{year}년 예측된 폴란드의 출산율: {pred[0]}')\n",
        "\n",
        "# 그래프 생성\n",
        "plt.figure(figsize=(20, 5))\n",
        "\n",
        "plt.subplot(1, 2, 1)\n",
        "plt.plot(range(2013, 2023), birth_rate_poland_pred, marker='o', linestyle='-', color='b', label='Birth Rate Prediction')\n",
        "\n",
        "# 그래프 제목 추가\n",
        "plt.title('Predicted Birth Rate in Poland')\n",
        "\n",
        "# x축, y축 레이블 추가\n",
        "plt.xlabel('Year')\n",
        "plt.ylabel('Birth Rate')\n",
        "plt.ylim(0.7, 2.5)\n",
        "plt.xticks(range(2013,2023))\n",
        "\n",
        "birth_rate_poland_real = [1.26, 1.29, 1.29, 1.36, 1.45, 1.44, 1.42, 1.39, 1.33, 1.26]\n",
        "\n",
        "plt.subplot(1, 2, 2)\n",
        "plt.title('Real Birth Rate in Poland')\n",
        "plt.plot(range(2013, 2023), birth_rate_poland_real, marker='o', linestyle='-', color='b', label='Birth Rate Prediction')\n",
        "plt.xlabel('Year')\n",
        "plt.ylabel('Birth Rate')\n",
        "plt.ylim(0.7, 2.5)\n",
        "plt.xticks(range(2013,2023))\n",
        "plt.show()\n"
      ],
      "metadata": {
        "id": "VLnpRQK2a43n"
      },
      "execution_count": null,
      "outputs": []
    },
    {
      "cell_type": "markdown",
      "source": [
        "***Third,*** To conduct cross-validation for validation, use Spain data that also earned by OECD stats & data.\n",
        "\n",
        "---\n",
        "\n",
        "*Spain data is not used in training.*"
      ],
      "metadata": {
        "id": "MkSnI4MNcDjg"
      }
    },
    {
      "cell_type": "code",
      "source": [
        "# 스페인 데이터 불러오기\n",
        "divorce_rate_spain = pd.read_csv('data/divorce_rate_spain.csv', header=None)\n",
        "higher_education_spain = pd.read_csv('data/higher_education_spain.csv', header=None)\n",
        "housing_prices_spain = pd.read_csv('data/housing_prices_spain.csv', header=None)\n",
        "inflation_rate_spain = pd.read_csv('data/inflation_rate_spain.csv', header=None)\n",
        "women_employment_spain = pd.read_csv('data/women_employment_spain.csv', header=None)\n",
        "\n",
        "# 데이터 합치기 위해 값으로 변경\n",
        "divorce_rate_spain = divorce_rate_spain.values.tolist()\n",
        "higher_education_spain = higher_education_spain.values.tolist()\n",
        "housing_prices_spain = housing_prices_spain.values.tolist()\n",
        "inflation_rate_spain = inflation_rate_spain.values.tolist()\n",
        "women_employment_spain = women_employment_spain.values.tolist()\n",
        "\n",
        "data = []\n",
        "for i in range(len(divorce_rate_spain)):\n",
        "  for j in range(len(divorce_rate_spain[i])):\n",
        "    data.append([divorce_rate_spain[i][j], higher_education_spain[i][j], housing_prices_spain[i][j], inflation_rate_spain[i][j], women_employment_spain[i][j]])\n",
        "\n",
        "df = pd.DataFrame(data)\n",
        "\n",
        "df.columns = ['divorce_rate', 'higher_education', 'housing_prices', 'inflation_rate', 'women_employment']\n",
        "\n",
        "# 스페인 데이터 스케일링\n",
        "spain_data_scaled = scaler.transform(df[['divorce_rate', 'higher_education', 'housing_prices', 'inflation_rate', 'women_employment']])\n",
        "\n",
        "# 예측 수행\n",
        "birth_rate_spain_pred = model.predict(spain_data_scaled)\n",
        "\n",
        "print(birth_rate_spain_pred)\n",
        "\n",
        "# 연도별 예측 결과 출력\n",
        "for year, pred in zip(range(2013, 2023), birth_rate_spain_pred):\n",
        "    print(f'{year}년 예측된 스페인의 출산율: {pred[0]}')\n",
        "\n",
        "# 그래프 생성\n",
        "plt.figure(figsize=(20, 5))\n",
        "\n",
        "plt.subplot(1, 2, 1)\n",
        "plt.plot(range(2013, 2023), birth_rate_spain_pred, marker='o', linestyle='-', color='b', label='Birth Rate Prediction')\n",
        "\n",
        "# 그래프 제목 추가\n",
        "plt.title('Predicted Birth Rate in Spain')\n",
        "\n",
        "# x축, y축 레이블 추가\n",
        "plt.xlabel('Year')\n",
        "plt.ylabel('Birth Rate')\n",
        "plt.ylim(0.7, 2.5)\n",
        "plt.xticks(range(2013,2023))\n",
        "\n",
        "birth_rate_spain_real = [1.93, 1.89, 1.85, 1.82, 1.78, 1.75, 1.70, 1.63, 1.72, 1.80]\n",
        "\n",
        "plt.subplot(1, 2, 2)\n",
        "plt.title('Real Birth Rate in Spain')\n",
        "plt.plot(range(2013, 2023), birth_rate_spain_real, marker='o', linestyle='-', color='b', label='Birth Rate Prediction')\n",
        "plt.xlabel('Year')\n",
        "plt.ylabel('Birth Rate')\n",
        "plt.ylim(0.7, 2.5)\n",
        "plt.xticks(range(2013,2023))\n",
        "plt.show()\n"
      ],
      "metadata": {
        "id": "uQSTmSOlcBW8"
      },
      "execution_count": null,
      "outputs": []
    }
  ],
  "metadata": {
    "colab": {
      "provenance": [],
      "toc_visible": true,
      "authorship_tag": "ABX9TyOrfU9Fcz86OJ7afJkUq4D0",
      "include_colab_link": true
    },
    "kernelspec": {
      "display_name": "Python 3",
      "name": "python3"
    },
    "language_info": {
      "name": "python"
    }
  },
  "nbformat": 4,
  "nbformat_minor": 0
}