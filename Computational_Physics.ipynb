{
  "cells": [
    {
      "cell_type": "markdown",
      "metadata": {
        "id": "view-in-github",
        "colab_type": "text"
      },
      "source": [
        "<a href=\"https://colab.research.google.com/github/garden-bell/computational_physics/blob/main/Computational_Physics.ipynb\" target=\"_parent\"><img src=\"https://colab.research.google.com/assets/colab-badge.svg\" alt=\"Open In Colab\"/></a>"
      ]
    },
    {
      "cell_type": "code",
      "execution_count": 32,
      "metadata": {
        "id": "O3HobI2hhZt_",
        "colab": {
          "base_uri": "https://localhost:8080/"
        },
        "outputId": "0a7d6dde-27f9-4c2c-dae8-75f3c0977173"
      },
      "outputs": [
        {
          "output_type": "stream",
          "name": "stdout",
          "text": [
            "Drive already mounted at /content/drive; to attempt to forcibly remount, call drive.mount(\"/content/drive\", force_remount=True).\n"
          ]
        }
      ],
      "source": [
        "import numpy as np\n",
        "import pandas as pd\n",
        "import pickle\n",
        "import matplotlib.pyplot as plt\n",
        "import math\n",
        "from pandas import DataFrame\n",
        "from sklearn.model_selection import train_test_split\n",
        "from sklearn.preprocessing import StandardScaler\n",
        "from tensorflow.keras.models import Sequential\n",
        "from tensorflow.keras.layers import Dense, Dropout\n",
        "from tensorflow.keras.optimizers import Adam\n",
        "from keras.callbacks import EarlyStopping\n",
        "\n",
        "\n",
        "# 최대 출력 열 수 조정 (예: 50열)\n",
        "pd.set_option('display.max_columns', 200)"
      ]
    },
    {
      "cell_type": "code",
      "execution_count": 33,
      "metadata": {
        "id": "TCKNdN45jBcb"
      },
      "outputs": [],
      "source": [
        "# CSV 파일에서 데이터 불러오기\n",
        "divorce_rate = pd.read_csv('data/divorce_rate.csv', header=None)\n",
        "higher_education = pd.read_csv('data/higher_education.csv', header=None)\n",
        "housing_prices = pd.read_csv('data/housing_prices.csv', header=None)\n",
        "inflation_rate = pd.read_csv('data/inflation_rate.csv', header=None)\n",
        "women_employment = pd.read_csv('data/women_employment.csv', header=None)\n",
        "birth_rate = pd.read_csv('data/birth_rate.csv', header=None)\n",
        "\n",
        "# 데이터 합치기 위해 값으로 변경\n",
        "divorce_rate = divorce_rate.values.tolist()\n",
        "higher_education = higher_education.values.tolist()\n",
        "housing_prices = housing_prices.values.tolist()\n",
        "inflation_rate = inflation_rate.values.tolist()\n",
        "women_employment = women_employment.values.tolist()\n",
        "birth_rate = birth_rate.values.tolist()"
      ]
    },
    {
      "cell_type": "code",
      "execution_count": 34,
      "metadata": {
        "id": "0kDpNt0cjIfA"
      },
      "outputs": [],
      "source": [
        "data = []\n",
        "for i in range(len(divorce_rate)):\n",
        "  for j in range(len(divorce_rate[i])):\n",
        "    data.append([divorce_rate[i][j], higher_education[i][j], housing_prices[i][j], inflation_rate[i][j], women_employment[i][j], birth_rate[i][j]])\n",
        "\n",
        "for i in range(len(data)) :\n",
        "    for j in range(len(data[i])) :\n",
        "        if math.isnan(data[i][j]) :\n",
        "            via = 1\n",
        "            while math.isnan(data[i + via][j]) and not(i + via == len(data)) :\n",
        "                via += 1\n",
        "            if (via + i == len(data)) :\n",
        "                pass\n",
        "            else :\n",
        "                data[i][j] = data[i + via][j]\n",
        "\n",
        "\n",
        "df = pd.DataFrame(data)\n",
        "\n",
        "df.columns = ['divorce_rate', 'higher_education', 'housing_prices', 'inflation_rate', 'women_employment', 'birth_rate']"
      ]
    },
    {
      "cell_type": "code",
      "execution_count": 35,
      "metadata": {
        "id": "h5wrXWxvjLhT"
      },
      "outputs": [],
      "source": [
        "# 특성과 목표 변수 분리\n",
        "X = df[['divorce_rate', 'higher_education', 'housing_prices', 'inflation_rate', 'women_employment']]\n",
        "y = df['birth_rate']\n",
        "\n",
        "# 데이터 분할: 훈련 세트와 테스트 세트\n",
        "X_train, X_test, y_train, y_test = train_test_split(X, y, test_size=0.1, random_state=42)\n",
        "\n",
        "# 데이터 스케일링\n",
        "scaler = StandardScaler()\n",
        "X_train_scaled = scaler.fit_transform(X_train)\n",
        "X_test_scaled = scaler.transform(X_test)"
      ]
    },
    {
      "cell_type": "code",
      "source": [
        "# 모델 구축\n",
        "model = Sequential()\n",
        "model.add(Dense(64, input_dim=X_train_scaled.shape[1], activation='relu'))   # 입력층과 첫 번째 히든 레이어\n",
        "model.add(Dropout(0.3))\n",
        "model.add(Dense(32, activation='relu'))   # 두 번째 히든 레이어\n",
        "model.add(Dropout(0.2))\n",
        "model.add(Dense(16, activation='relu'))   # 세 번째 히든 레이어\n",
        "model.add(Dropout(0.2))\n",
        "model.add(Dense(1))   # 출력층"
      ],
      "metadata": {
        "id": "Y8BNEU-Fz4rN"
      },
      "execution_count": 36,
      "outputs": []
    },
    {
      "cell_type": "code",
      "source": [
        "# 모델 컴파일\n",
        "model.compile(optimizer=Adam(learning_rate=0.0005), loss='mean_squared_error')\n",
        "\n",
        "# 조기 종료 설정\n",
        "early_stopping = EarlyStopping(monitor='val_loss', patience=10)\n",
        "\n",
        "# 모델 학습\n",
        "history = model.fit(X_train_scaled, y_train, epochs=100, batch_size=10, validation_split=0.2, callbacks=[early_stopping])"
      ],
      "metadata": {
        "colab": {
          "base_uri": "https://localhost:8080/"
        },
        "id": "kv4zYYox0BSS",
        "outputId": "9aa4f75e-1b20-454a-d585-cccf2b6dd4c0"
      },
      "execution_count": 37,
      "outputs": [
        {
          "output_type": "stream",
          "name": "stdout",
          "text": [
            "Epoch 1/100\n",
            "98/98 [==============================] - 3s 11ms/step - loss: 2.5806 - val_loss: 0.8927\n",
            "Epoch 2/100\n",
            "98/98 [==============================] - 1s 8ms/step - loss: 0.9553 - val_loss: 0.5963\n",
            "Epoch 3/100\n",
            "98/98 [==============================] - 1s 6ms/step - loss: 0.9736 - val_loss: 0.5982\n",
            "Epoch 4/100\n",
            "98/98 [==============================] - 1s 7ms/step - loss: 0.8500 - val_loss: 0.5773\n",
            "Epoch 5/100\n",
            "98/98 [==============================] - 1s 6ms/step - loss: 0.7610 - val_loss: 0.4816\n",
            "Epoch 6/100\n",
            "98/98 [==============================] - 1s 8ms/step - loss: 0.6710 - val_loss: 0.4974\n",
            "Epoch 7/100\n",
            "98/98 [==============================] - 1s 8ms/step - loss: 0.7411 - val_loss: 0.4818\n",
            "Epoch 8/100\n",
            "98/98 [==============================] - 2s 18ms/step - loss: 0.6730 - val_loss: 0.4415\n",
            "Epoch 9/100\n",
            "98/98 [==============================] - 1s 13ms/step - loss: 0.6853 - val_loss: 0.4781\n",
            "Epoch 10/100\n",
            "98/98 [==============================] - 1s 9ms/step - loss: 0.6390 - val_loss: 0.4772\n",
            "Epoch 11/100\n",
            "98/98 [==============================] - 1s 9ms/step - loss: 0.6212 - val_loss: 0.4311\n",
            "Epoch 12/100\n",
            "98/98 [==============================] - 1s 12ms/step - loss: 0.5979 - val_loss: 0.3901\n",
            "Epoch 13/100\n",
            "98/98 [==============================] - 1s 9ms/step - loss: 0.5757 - val_loss: 0.3855\n",
            "Epoch 14/100\n",
            "98/98 [==============================] - 1s 10ms/step - loss: 0.5429 - val_loss: 0.4034\n",
            "Epoch 15/100\n",
            "98/98 [==============================] - 1s 9ms/step - loss: 0.5634 - val_loss: 0.3956\n",
            "Epoch 16/100\n",
            "98/98 [==============================] - 1s 10ms/step - loss: 0.5483 - val_loss: 0.4195\n",
            "Epoch 17/100\n",
            "98/98 [==============================] - 1s 10ms/step - loss: 0.5453 - val_loss: 0.4273\n",
            "Epoch 18/100\n",
            "98/98 [==============================] - 1s 7ms/step - loss: 0.4911 - val_loss: 0.4250\n",
            "Epoch 19/100\n",
            "98/98 [==============================] - 1s 7ms/step - loss: 0.5161 - val_loss: 0.4055\n",
            "Epoch 20/100\n",
            "98/98 [==============================] - 0s 5ms/step - loss: 0.5068 - val_loss: 0.3792\n",
            "Epoch 21/100\n",
            "98/98 [==============================] - 0s 3ms/step - loss: 0.5122 - val_loss: 0.4213\n",
            "Epoch 22/100\n",
            "98/98 [==============================] - 0s 3ms/step - loss: 0.5256 - val_loss: 0.4462\n",
            "Epoch 23/100\n",
            "98/98 [==============================] - 0s 3ms/step - loss: 0.4991 - val_loss: 0.4227\n",
            "Epoch 24/100\n",
            "98/98 [==============================] - 0s 2ms/step - loss: 0.4497 - val_loss: 0.3895\n",
            "Epoch 25/100\n",
            "98/98 [==============================] - 0s 3ms/step - loss: 0.4424 - val_loss: 0.3807\n",
            "Epoch 26/100\n",
            "98/98 [==============================] - 0s 3ms/step - loss: 0.4919 - val_loss: 0.4160\n",
            "Epoch 27/100\n",
            "98/98 [==============================] - 0s 3ms/step - loss: 0.4370 - val_loss: 0.3797\n",
            "Epoch 28/100\n",
            "98/98 [==============================] - 0s 3ms/step - loss: 0.4288 - val_loss: 0.3720\n",
            "Epoch 29/100\n",
            "98/98 [==============================] - 0s 3ms/step - loss: 0.4827 - val_loss: 0.3611\n",
            "Epoch 30/100\n",
            "98/98 [==============================] - 1s 8ms/step - loss: 0.4210 - val_loss: 0.3860\n",
            "Epoch 31/100\n",
            "98/98 [==============================] - 1s 8ms/step - loss: 0.4419 - val_loss: 0.3719\n",
            "Epoch 32/100\n",
            "98/98 [==============================] - 0s 4ms/step - loss: 0.4311 - val_loss: 0.3928\n",
            "Epoch 33/100\n",
            "98/98 [==============================] - 0s 4ms/step - loss: 0.4290 - val_loss: 0.3588\n",
            "Epoch 34/100\n",
            "98/98 [==============================] - 0s 4ms/step - loss: 0.4228 - val_loss: 0.3525\n",
            "Epoch 35/100\n",
            "98/98 [==============================] - 1s 6ms/step - loss: 0.4026 - val_loss: 0.3719\n",
            "Epoch 36/100\n",
            "98/98 [==============================] - 1s 6ms/step - loss: 0.4346 - val_loss: 0.3621\n",
            "Epoch 37/100\n",
            "98/98 [==============================] - 0s 5ms/step - loss: 0.4029 - val_loss: 0.3938\n",
            "Epoch 38/100\n",
            "98/98 [==============================] - 0s 5ms/step - loss: 0.4315 - val_loss: 0.4130\n",
            "Epoch 39/100\n",
            "98/98 [==============================] - 1s 6ms/step - loss: 0.4103 - val_loss: 0.3914\n",
            "Epoch 40/100\n",
            "98/98 [==============================] - 1s 8ms/step - loss: 0.3832 - val_loss: 0.3542\n",
            "Epoch 41/100\n",
            "98/98 [==============================] - 1s 8ms/step - loss: 0.4363 - val_loss: 0.3589\n",
            "Epoch 42/100\n",
            "98/98 [==============================] - 1s 9ms/step - loss: 0.3976 - val_loss: 0.3699\n",
            "Epoch 43/100\n",
            "98/98 [==============================] - 1s 9ms/step - loss: 0.3771 - val_loss: 0.3483\n",
            "Epoch 44/100\n",
            "98/98 [==============================] - 0s 5ms/step - loss: 0.3547 - val_loss: 0.3398\n",
            "Epoch 45/100\n",
            "98/98 [==============================] - 0s 5ms/step - loss: 0.3745 - val_loss: 0.3558\n",
            "Epoch 46/100\n",
            "98/98 [==============================] - 0s 5ms/step - loss: 0.3816 - val_loss: 0.3411\n",
            "Epoch 47/100\n",
            "98/98 [==============================] - 0s 3ms/step - loss: 0.4036 - val_loss: 0.3395\n",
            "Epoch 48/100\n",
            "98/98 [==============================] - 0s 3ms/step - loss: 0.3743 - val_loss: 0.3493\n",
            "Epoch 49/100\n",
            "98/98 [==============================] - 0s 3ms/step - loss: 0.3631 - val_loss: 0.3467\n",
            "Epoch 50/100\n",
            "98/98 [==============================] - 0s 3ms/step - loss: 0.4089 - val_loss: 0.3453\n",
            "Epoch 51/100\n",
            "98/98 [==============================] - 0s 3ms/step - loss: 0.3593 - val_loss: 0.3316\n",
            "Epoch 52/100\n",
            "98/98 [==============================] - 0s 3ms/step - loss: 0.3647 - val_loss: 0.3569\n",
            "Epoch 53/100\n",
            "98/98 [==============================] - 0s 2ms/step - loss: 0.3264 - val_loss: 0.3214\n",
            "Epoch 54/100\n",
            "98/98 [==============================] - 0s 5ms/step - loss: 0.3176 - val_loss: 0.3192\n",
            "Epoch 55/100\n",
            "98/98 [==============================] - 1s 5ms/step - loss: 0.3844 - val_loss: 0.3643\n",
            "Epoch 56/100\n",
            "98/98 [==============================] - 1s 5ms/step - loss: 0.3518 - val_loss: 0.3250\n",
            "Epoch 57/100\n",
            "98/98 [==============================] - 0s 5ms/step - loss: 0.3643 - val_loss: 0.3413\n",
            "Epoch 58/100\n",
            "98/98 [==============================] - 1s 9ms/step - loss: 0.3344 - val_loss: 0.3133\n",
            "Epoch 59/100\n",
            "98/98 [==============================] - 1s 10ms/step - loss: 0.3143 - val_loss: 0.3104\n",
            "Epoch 60/100\n",
            "98/98 [==============================] - 1s 8ms/step - loss: 0.3713 - val_loss: 0.3126\n",
            "Epoch 61/100\n",
            "98/98 [==============================] - 1s 6ms/step - loss: 0.3338 - val_loss: 0.3092\n",
            "Epoch 62/100\n",
            "98/98 [==============================] - 0s 5ms/step - loss: 0.3759 - val_loss: 0.3539\n",
            "Epoch 63/100\n",
            "98/98 [==============================] - 1s 6ms/step - loss: 0.3298 - val_loss: 0.3072\n",
            "Epoch 64/100\n",
            "98/98 [==============================] - 1s 5ms/step - loss: 0.3323 - val_loss: 0.3135\n",
            "Epoch 65/100\n",
            "98/98 [==============================] - 1s 7ms/step - loss: 0.3343 - val_loss: 0.3119\n",
            "Epoch 66/100\n",
            "98/98 [==============================] - 1s 8ms/step - loss: 0.3434 - val_loss: 0.3324\n",
            "Epoch 67/100\n",
            "98/98 [==============================] - 1s 8ms/step - loss: 0.3163 - val_loss: 0.2928\n",
            "Epoch 68/100\n",
            "98/98 [==============================] - 1s 8ms/step - loss: 0.3137 - val_loss: 0.2798\n",
            "Epoch 69/100\n",
            "98/98 [==============================] - 1s 8ms/step - loss: 0.3305 - val_loss: 0.3026\n",
            "Epoch 70/100\n",
            "98/98 [==============================] - 1s 8ms/step - loss: 0.3297 - val_loss: 0.2972\n",
            "Epoch 71/100\n",
            "98/98 [==============================] - 1s 11ms/step - loss: 0.3231 - val_loss: 0.2813\n",
            "Epoch 72/100\n",
            "98/98 [==============================] - 0s 5ms/step - loss: 0.3213 - val_loss: 0.2919\n",
            "Epoch 73/100\n",
            "98/98 [==============================] - 0s 3ms/step - loss: 0.3165 - val_loss: 0.3007\n",
            "Epoch 74/100\n",
            "98/98 [==============================] - 0s 3ms/step - loss: 0.2932 - val_loss: 0.2963\n",
            "Epoch 75/100\n",
            "98/98 [==============================] - 0s 3ms/step - loss: 0.3302 - val_loss: 0.2731\n",
            "Epoch 76/100\n",
            "98/98 [==============================] - 0s 3ms/step - loss: 0.3072 - val_loss: 0.2834\n",
            "Epoch 77/100\n",
            "98/98 [==============================] - 0s 3ms/step - loss: 0.3232 - val_loss: 0.2929\n",
            "Epoch 78/100\n",
            "98/98 [==============================] - 0s 5ms/step - loss: 0.3546 - val_loss: 0.2903\n",
            "Epoch 79/100\n",
            "98/98 [==============================] - 0s 5ms/step - loss: 0.2788 - val_loss: 0.2915\n",
            "Epoch 80/100\n",
            "98/98 [==============================] - 1s 5ms/step - loss: 0.2830 - val_loss: 0.2738\n",
            "Epoch 81/100\n",
            "98/98 [==============================] - 1s 7ms/step - loss: 0.2863 - val_loss: 0.2757\n",
            "Epoch 82/100\n",
            "98/98 [==============================] - 0s 5ms/step - loss: 0.3520 - val_loss: 0.2797\n",
            "Epoch 83/100\n",
            "98/98 [==============================] - 0s 3ms/step - loss: 0.3215 - val_loss: 0.2884\n",
            "Epoch 84/100\n",
            "98/98 [==============================] - 1s 5ms/step - loss: 0.2815 - val_loss: 0.2685\n",
            "Epoch 85/100\n",
            "98/98 [==============================] - 1s 7ms/step - loss: 0.3035 - val_loss: 0.2674\n",
            "Epoch 86/100\n",
            "98/98 [==============================] - 1s 7ms/step - loss: 0.2879 - val_loss: 0.2941\n",
            "Epoch 87/100\n",
            "98/98 [==============================] - 1s 5ms/step - loss: 0.3040 - val_loss: 0.2672\n",
            "Epoch 88/100\n",
            "98/98 [==============================] - 1s 8ms/step - loss: 0.2955 - val_loss: 0.2574\n",
            "Epoch 89/100\n",
            "98/98 [==============================] - 1s 7ms/step - loss: 0.2747 - val_loss: 0.2742\n",
            "Epoch 90/100\n",
            "98/98 [==============================] - 1s 5ms/step - loss: 0.2828 - val_loss: 0.2632\n",
            "Epoch 91/100\n",
            "98/98 [==============================] - 1s 5ms/step - loss: 0.2781 - val_loss: 0.2521\n",
            "Epoch 92/100\n",
            "98/98 [==============================] - 0s 3ms/step - loss: 0.3013 - val_loss: 0.2536\n",
            "Epoch 93/100\n",
            "98/98 [==============================] - 1s 7ms/step - loss: 0.2727 - val_loss: 0.2549\n",
            "Epoch 94/100\n",
            "98/98 [==============================] - 1s 8ms/step - loss: 0.2592 - val_loss: 0.2773\n",
            "Epoch 95/100\n",
            "98/98 [==============================] - 1s 8ms/step - loss: 0.2984 - val_loss: 0.2478\n",
            "Epoch 96/100\n",
            "98/98 [==============================] - 1s 8ms/step - loss: 0.2728 - val_loss: 0.2509\n",
            "Epoch 97/100\n",
            "98/98 [==============================] - 1s 8ms/step - loss: 0.3065 - val_loss: 0.2394\n",
            "Epoch 98/100\n",
            "98/98 [==============================] - 1s 7ms/step - loss: 0.2892 - val_loss: 0.2546\n",
            "Epoch 99/100\n",
            "98/98 [==============================] - 1s 6ms/step - loss: 0.2649 - val_loss: 0.2514\n",
            "Epoch 100/100\n",
            "98/98 [==============================] - 1s 8ms/step - loss: 0.2849 - val_loss: 0.2371\n"
          ]
        }
      ]
    },
    {
      "cell_type": "code",
      "execution_count": 38,
      "metadata": {
        "id": "-EEHz-KYjR5z"
      },
      "outputs": [],
      "source": [
        "# 한국 데이터 불러오기\n",
        "divorce_rate_korea = pd.read_csv('data/divorce_rate_korea.csv', header=None)\n",
        "higher_education_korea = pd.read_csv('data/higher_education_korea.csv', header=None)\n",
        "housing_prices_korea = pd.read_csv('datahousing_prices_korea.csv', header=None)\n",
        "inflation_rate_korea = pd.read_csv('data/inflation_rate_korea.csv', header=None)\n",
        "women_employment_korea = pd.read_csv('data/women_employment_korea.csv', header=None)\n",
        "\n",
        "# 데이터 합치기 위해 값으로 변경\n",
        "divorce_rate_korea = divorce_rate_korea.values.tolist()\n",
        "higher_education_korea = higher_education_korea.values.tolist()\n",
        "housing_prices_korea = housing_prices_korea.values.tolist()\n",
        "inflation_rate_korea = inflation_rate_korea.values.tolist()\n",
        "women_employment_korea = women_employment_korea.values.tolist()\n",
        "\n",
        "data = []\n",
        "for i in range(len(divorce_rate_korea)):\n",
        "  for j in range(len(divorce_rate_korea[i])):\n",
        "    data.append([divorce_rate_korea[i][j], higher_education_korea[i][j], housing_prices_korea[i][j], inflation_rate_korea[i][j], women_employment_korea[i][j]])\n",
        "\n",
        "df = pd.DataFrame(data)\n",
        "\n",
        "df.columns = ['divorce_rate', 'higher_education', 'housing_prices', 'inflation_rate', 'women_employment']"
      ]
    },
    {
      "cell_type": "code",
      "execution_count": 39,
      "metadata": {
        "colab": {
          "base_uri": "https://localhost:8080/"
        },
        "id": "lq5az9YRrHdJ",
        "outputId": "603e1567-9ebe-45d8-f473-cd1e92cb5e99"
      },
      "outputs": [
        {
          "output_type": "stream",
          "name": "stderr",
          "text": [
            "WARNING:tensorflow:5 out of the last 5 calls to <function Model.make_predict_function.<locals>.predict_function at 0x7a981c03fbe0> triggered tf.function retracing. Tracing is expensive and the excessive number of tracings could be due to (1) creating @tf.function repeatedly in a loop, (2) passing tensors with different shapes, (3) passing Python objects instead of tensors. For (1), please define your @tf.function outside of the loop. For (2), @tf.function has reduce_retracing=True option that can avoid unnecessary retracing. For (3), please refer to https://www.tensorflow.org/guide/function#controlling_retracing and https://www.tensorflow.org/api_docs/python/tf/function for  more details.\n"
          ]
        },
        {
          "output_type": "stream",
          "name": "stdout",
          "text": [
            "1/1 [==============================] - 0s 79ms/step\n",
            "[[1.8245453]\n",
            " [1.8265612]\n",
            " [1.8386674]\n",
            " [1.8472446]\n",
            " [1.8573998]\n",
            " [1.860585 ]\n",
            " [1.8396518]\n",
            " [1.8693657]\n",
            " [1.9006064]\n",
            " [1.9689531]]\n",
            "2013년 예측된 한국의 출산율: 1.8245452642440796\n",
            "2014년 예측된 한국의 출산율: 1.8265612125396729\n",
            "2015년 예측된 한국의 출산율: 1.838667392730713\n",
            "2016년 예측된 한국의 출산율: 1.8472446203231812\n",
            "2017년 예측된 한국의 출산율: 1.857399821281433\n",
            "2018년 예측된 한국의 출산율: 1.8605849742889404\n",
            "2019년 예측된 한국의 출산율: 1.8396518230438232\n",
            "2020년 예측된 한국의 출산율: 1.8693656921386719\n",
            "2021년 예측된 한국의 출산율: 1.900606393814087\n",
            "2022년 예측된 한국의 출산율: 1.9689531326293945\n"
          ]
        }
      ],
      "source": [
        "# 한국 데이터 스케일링\n",
        "korea_data_scaled = scaler.transform(df[['divorce_rate', 'higher_education', 'housing_prices', 'inflation_rate', 'women_employment']])\n",
        "\n",
        "# 예측 수행\n",
        "birth_rate_korea_pred = model.predict(korea_data_scaled)\n",
        "\n",
        "print(birth_rate_korea_pred)\n",
        "\n",
        "# 연도별 예측 결과 출력\n",
        "for year, pred in zip(range(2013, 2023), birth_rate_korea_pred):\n",
        "    print(f'{year}년 예측된 한국의 출산율: {pred[0]}')"
      ]
    },
    {
      "cell_type": "code",
      "execution_count": 40,
      "metadata": {
        "colab": {
          "base_uri": "https://localhost:8080/",
          "height": 487
        },
        "id": "8FPc9ISNsbTB",
        "outputId": "adab8294-3995-4e93-aa18-4033f38137b2"
      },
      "outputs": [
        {
          "output_type": "display_data",
          "data": {
            "text/plain": [
              "<Figure size 2000x500 with 2 Axes>"
            ],
            "image/png": "[encoded data removed]"
          },
          "metadata": {}
        }
      ],
      "source": [
        "# 그래프 생성\n",
        "plt.figure(figsize=(20, 5))\n",
        "\n",
        "plt.subplot(1, 2, 1)\n",
        "plt.plot(range(2013, 2023), birth_rate_korea_pred, marker='o', linestyle='-', color='b', label='Birth Rate Prediction')\n",
        "\n",
        "# 그래프 제목 추가\n",
        "plt.title('Predicted Birth Rate in Korea')\n",
        "\n",
        "# x축, y축 레이블 추가\n",
        "plt.xlabel('Year')\n",
        "plt.ylabel('Birth Rate')\n",
        "plt.ylim(0.7, 2.5)\n",
        "plt.xticks(range(2013,2023))\n",
        "\n",
        "birth_rate_korea_real = [1.19, 1.21, 1.24, 1.17, 1.05, 0.98, 0.92, 0.84, 0.81, 0.78]\n",
        "\n",
        "plt.subplot(1, 2, 2)\n",
        "plt.title('Real Birth Rate in Korea')\n",
        "plt.plot(range(2013, 2023), birth_rate_korea_real, marker='o', linestyle='-', color='b', label='Birth Rate Prediction')\n",
        "plt.xlabel('Year')\n",
        "plt.ylabel('Birth Rate')\n",
        "plt.ylim(0.7, 2.5)\n",
        "plt.xticks(range(2013,2023))\n",
        "plt.show()"
      ]
    }
  ],
  "metadata": {
    "colab": {
      "provenance": [],
      "toc_visible": true,
      "authorship_tag": "ABX9TyNjRBffWYsXn6G9ArVgC/wp",
      "include_colab_link": true
    },
    "kernelspec": {
      "display_name": "Python 3",
      "name": "python3"
    },
    "language_info": {
      "name": "python"
    }
  },
  "nbformat": 4,
  "nbformat_minor": 0
}